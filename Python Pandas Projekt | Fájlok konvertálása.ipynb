{
 "cells": [
  {
   "cell_type": "markdown",
   "id": "70625374",
   "metadata": {},
   "source": [
    "# Python Pandas Projekt | Fájlok konvertálása\n",
    "---\n",
    "A Python Pandas könyvtár segítségével Excel és Calc fájlokat olvasunk be és konvertálunk át csv formátumba.\n",
    "\n",
    "![](logistics.jpg)\n",
    "\n",
    "*Kép forrása: pixabay*"
   ]
  },
  {
   "cell_type": "markdown",
   "id": "89d0e54a",
   "metadata": {},
   "source": [
    "## 1. A szükséges könyvtárak telepítése\n",
    "Három Python könyvtárra van szükségünk:\n",
    "\n",
    "- openpyxl\n",
    "- pyexcel-ods3\n",
    "- odfpy\n",
    "\n",
    "Az `openpyxl` az Excel .xlsx fájlokhoz szükséges, a `pyexcel-ods3` és az `odfpy` pedig a Calc .ods formátumát kezeli.\n",
    "\n",
    "Mindhárom könyvtárat a pip segítségével lehet telepíteni:"
   ]
  },
  {
   "cell_type": "code",
   "execution_count": null,
   "id": "93b033b4",
   "metadata": {},
   "outputs": [],
   "source": [
    "pip install openpyxl"
   ]
  },
  {
   "cell_type": "code",
   "execution_count": null,
   "id": "b4196470",
   "metadata": {},
   "outputs": [],
   "source": [
    "pip install pyexcel-ods3"
   ]
  },
  {
   "cell_type": "code",
   "execution_count": null,
   "id": "f80fab92",
   "metadata": {},
   "outputs": [],
   "source": [
    "pip install odfpy"
   ]
  },
  {
   "cell_type": "markdown",
   "id": "9652ed93",
   "metadata": {},
   "source": [
    "## 2. A csv fájl beolvasása az adatkeretbe  "
   ]
  },
  {
   "cell_type": "code",
   "execution_count": null,
   "id": "b2b9c2ed",
   "metadata": {},
   "outputs": [],
   "source": [
    "# A Pandas könyvtár importálása alias formában\n",
    "import pandas as pd\n",
    "\n",
    "# A logi_data nevű változó létrehozása\n",
    "logi_data = pd.read_csv(\"logistics_data.csv\")\n",
    "\n",
    "# A teljes adatkeret megjelenítése\n",
    "logi_data"
   ]
  },
  {
   "cell_type": "markdown",
   "id": "fca87aa8",
   "metadata": {},
   "source": [
    "A csv fájl oszlopai:\n",
    "\n",
    "- **OrderID** - Egyedi azonosító a megrendeléshez\n",
    "- **CustomerName** - Az ügyfél neve\n",
    "- **ShipmentDate** - A szállítás dátuma\n",
    "- **DestinationCountry** - A megrendelő ország neve\n",
    "- **ProductCategory** - A termék kategóriája\n",
    "- **WeightKG** - A csomag súlya kilogrammban\n",
    "- **ShippingCostUSD** - A szállítási költség USD-ben\n",
    "- **Status** - A szállítás állapota"
   ]
  },
  {
   "cell_type": "markdown",
   "id": "1a377147",
   "metadata": {},
   "source": [
    "## 3. Konvertálás XLSX formátumba\n",
    "Az `.xlsx` a Microsoft Office Excel által támogatott fájlformátum. "
   ]
  },
  {
   "cell_type": "code",
   "execution_count": null,
   "id": "1a992e22",
   "metadata": {},
   "outputs": [],
   "source": [
    "logi_data.to_excel(\"logi_data.xlsx\")"
   ]
  },
  {
   "cell_type": "markdown",
   "id": "538c3e22",
   "metadata": {},
   "source": [
    "Ha megnyítjuk a `logi_data.xlsx` fájlt, akkor azt láthatjuk, hogy az `A1` cella üres. \n",
    "\n",
    "Ha azt szeretnénk, hogy a táblázatunk rendezettebb formában jelenjen meg, akkor az `openpyxl` és az `index=False` segítségével ezt megoldhatjuk."
   ]
  },
  {
   "cell_type": "code",
   "execution_count": null,
   "id": "d0a6e0a1",
   "metadata": {},
   "outputs": [],
   "source": [
    "# Az openpyxl importálása\n",
    "import openpyxl"
   ]
  },
  {
   "cell_type": "code",
   "execution_count": null,
   "id": "e090f955",
   "metadata": {},
   "outputs": [],
   "source": [
    "# Újra végezzük el a fenti müveletet \n",
    "logi_data.to_excel(\"logi_data.xlsx\", index=False)"
   ]
  },
  {
   "cell_type": "markdown",
   "id": "856380c2",
   "metadata": {},
   "source": [
    "Ezzel egy rendezettebb táblázatot kapunk, ahol az A1 cella már nem üres és jobban hasonlít az Excel tábla kinézetére."
   ]
  },
  {
   "cell_type": "markdown",
   "id": "29d2c06d",
   "metadata": {},
   "source": [
    "## 4. Konvertálás ODS formátumba\n",
    "Az `.ods` a Libre Office Calc által használt formátum. \n",
    "\n",
    "Az ods esetében szükségünk lesz a `pyexcel-ods3` és az `odfpy` könyvtárra.  "
   ]
  },
  {
   "cell_type": "code",
   "execution_count": null,
   "id": "f6330ba3",
   "metadata": {},
   "outputs": [],
   "source": [
    "import pyexcel_ods3\n",
    "logi_data.to_excel(\"logi_data.ods\", index=False, engine=\"odf\")"
   ]
  },
  {
   "cell_type": "markdown",
   "id": "c6f01bfb",
   "metadata": {},
   "source": [
    "## 5. Az XLSX fájl beolvasása"
   ]
  },
  {
   "cell_type": "code",
   "execution_count": null,
   "id": "da274d93",
   "metadata": {},
   "outputs": [],
   "source": [
    "logi_xlsx = pd.read_excel(\"logi_data.xlsx\")\n",
    "\n",
    "logi_xlsx"
   ]
  },
  {
   "cell_type": "markdown",
   "id": "89d62762",
   "metadata": {},
   "source": [
    "## 6. Az ods fájl beolvasása"
   ]
  },
  {
   "cell_type": "code",
   "execution_count": null,
   "id": "9a02c70f",
   "metadata": {},
   "outputs": [],
   "source": [
    "logi_ods = pd.read_excel(\"logi_data.ods\")\n",
    "\n",
    "logi_ods"
   ]
  },
  {
   "cell_type": "markdown",
   "id": "89d98b13",
   "metadata": {},
   "source": [
    "## 7. Az XLSX fájl átalakítása CSV formátumba"
   ]
  },
  {
   "cell_type": "code",
   "execution_count": null,
   "id": "f9d32986",
   "metadata": {},
   "outputs": [],
   "source": [
    "logi_xlsx.to_csv(\"logi_xlsx.csv\", index=False)"
   ]
  },
  {
   "cell_type": "markdown",
   "id": "f0bd57a0",
   "metadata": {},
   "source": [
    "## 8. Az ODS fájl átalakítása CSV formátumba"
   ]
  },
  {
   "cell_type": "code",
   "execution_count": null,
   "id": "1b4db56b",
   "metadata": {},
   "outputs": [],
   "source": [
    "logi_ods.to_csv(\"logi_ods.csv\", index=False)"
   ]
  },
  {
   "cell_type": "markdown",
   "id": "6893c098",
   "metadata": {},
   "source": [
    "---"
   ]
  }
 ],
 "metadata": {
  "kernelspec": {
   "display_name": "Python 3 (ipykernel)",
   "language": "python",
   "name": "python3"
  },
  "language_info": {
   "codemirror_mode": {
    "name": "ipython",
    "version": 3
   },
   "file_extension": ".py",
   "mimetype": "text/x-python",
   "name": "python",
   "nbconvert_exporter": "python",
   "pygments_lexer": "ipython3",
   "version": "3.11.2"
  }
 },
 "nbformat": 4,
 "nbformat_minor": 5
}
